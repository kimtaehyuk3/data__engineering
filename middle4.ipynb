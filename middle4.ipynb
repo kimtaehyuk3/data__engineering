{
 "cells": [
  {
   "cell_type": "code",
   "execution_count": 1,
   "id": "d919473c-cfa1-4950-8529-a7dbb148bbd4",
   "metadata": {},
   "outputs": [
    {
     "name": "stdout",
     "output_type": "stream",
     "text": [
      "당신의 조선시대 이름은 안칠걸 입니다.\n"
     ]
    }
   ],
   "source": [
    "def get_my_chosun_name(family_name, month, day):\n",
    "\n",
    "    month_names = ['쌍', '쇠', '복', '돌', '팽', '육', '쌍', '개', '칠', '갑', '삼', '방']\n",
    "    \n",
    "    day_names = ['봉', '구', '욕', '포', '똥', '삼', '식', '석', '놈', '님', '년', '돌', '단', '득', '방', '질', '장', '걸', '래', '룡', '동', '순', '자', '박', '창', '언', '것', '포', '만', '단', '국']\n",
    "    \n",
    "    month_index = month - 1 \n",
    "    day_index = day - 1  \n",
    " \n",
    "    chosun_name = family_name + month_names[month_index] + day_names[day_index]\n",
    "    \n",
    "    return f\"당신의 조선시대 이름은 {chosun_name} 입니다.\"\n",
    "\n",
    "r = get_my_chosun_name('안', 9, 18)\n",
    "print(r)"
   ]
  },
  {
   "cell_type": "code",
   "execution_count": 4,
   "id": "15fc89f3-a836-45f9-b9a6-fc93ca5febf9",
   "metadata": {},
   "outputs": [
    {
     "name": "stdout",
     "output_type": "stream",
     "text": [
      "당신의 조선시대 이름은 김갑창 입니다.\n"
     ]
    }
   ],
   "source": [
    "#결과값 다른 예시\n",
    "r = get_my_chosun_name('김',10,25)\n",
    "print(r)"
   ]
  },
  {
   "cell_type": "code",
   "execution_count": null,
   "id": "2153fd54-fbbf-4efa-ae5b-b0fe9c9f60db",
   "metadata": {},
   "outputs": [],
   "source": []
  }
 ],
 "metadata": {
  "kernelspec": {
   "display_name": "Python 3 (ipykernel)",
   "language": "python",
   "name": "python3"
  },
  "language_info": {
   "codemirror_mode": {
    "name": "ipython",
    "version": 3
   },
   "file_extension": ".py",
   "mimetype": "text/x-python",
   "name": "python",
   "nbconvert_exporter": "python",
   "pygments_lexer": "ipython3",
   "version": "3.9.7"
  }
 },
 "nbformat": 4,
 "nbformat_minor": 5
}
