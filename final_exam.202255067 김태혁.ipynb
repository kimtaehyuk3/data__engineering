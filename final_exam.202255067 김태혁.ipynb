{
 "cells": [
  {
   "cell_type": "markdown",
   "id": "f37139f1-1fb9-4fb1-b0c7-6fa3c861af39",
   "metadata": {
    "tags": []
   },
   "source": [
    "## **[부록: 메서드(함수) 및 문법]**"
   ]
  },
  {
   "cell_type": "markdown",
   "id": "276d694a-a57f-4f5e-a99e-d69c6c57e8b3",
   "metadata": {},
   "source": [
    "#### **NumPy**\n",
    "+ np.nan: NaN(Not a Number) 값 또는 결측치 표현\n",
    "+ np.array(): NumPy 배열 생성\n",
    "    + 예: np.array([1, 2, 3])\n",
    "+ np.log(): 밑이 e(자연 상수)인 로그 함수\n",
    "+ np.log2(): 밑이 2인 로그 함수\n",
    "+ np.log10(): 밑이 10인 로그 함수(상용 로그)\n",
    "\n",
    "#### **Pandas**\n",
    "+ pd.Series(*object*, *index*): Series 객체 생성\n",
    "    + 예: pd.Series([0, 1, 2], index='abc')\n",
    "+ pd.DataFrame(*object*, *index*): DataFrame 객체 생성\n",
    "+ index: 인덱스 얻기\n",
    "+ isin(*values*): 각 인덱스 값이 인자 값 집합에 있는지 여부의 부울 배열을 계산\n",
    "    + 예: ser_one.index.isin(ser_two.index)\n",
    "+ loc: 레이블 기반 인덱서\n",
    "    + 예: df.loc[(df > 0.1) & (df < 0.5)]\n",
    "    + 예: df.loc['a':'z']\n",
    "+ iloc: 정수 기반 인덱서\n",
    "    + 예: df.iloc[1]\n",
    "+ pd.concat(): 객체를 연결\n",
    "    + 매개변수, verify_integrity=True : 인덱스 중복될 경우 에러를 발생\n",
    "    + 매개변수, ignore_index=True : 기존 인덱스를 무시하고 객체를 연결한 후 다시 인덱스를 재생성\n",
    "+ copy(): 객체 복사본 생성\n",
    "+ pd.DatetimeIndex(): 시간(Timestamp)으로 이루어진 배열을 생성\n",
    "+ pd.date_range(*start*, *end*, *freq*): Timestamp로 이루어진 정규 시퀀스 생성\n",
    "+ dropna(*axis*, *how*, *thres*): 결측치를 제거\n",
    "    + 매개변수, *axis*=0: 행 단위로 삭제\n",
    "    + 매개변수, *axis*=1: 열 단위로 삭제\n",
    "    + 매개변수, *how*='any': 결측치가 1개라도 존재할 경우 행 또는 열 삭제\n",
    "    + 매개변수, *how*='all': 모든 데이터가 결측된 행 또는 열 삭제\n",
    "    + 매개변수, *thresh*: 정상 측정된 데이터의 개수가 임계치(thresh)보다 작은 행 또는 열 삭제\n",
    "+ max(): 최대값\n",
    "    + 예: ser.max()\n",
    "+ min(): 최소값\n",
    "+ pd.period_range(*start*, *end*, *freq*): Period로 이루어진 정규 시퀀스 생성\n",
    "+ interpolate(*inplace*=True): 선형 보간 처리 후 원본 파일 덮어쓰기\n",
    "+ quantile(*p*): 백분위수 구하기\n",
    "    + 예: ser.quantile(0.1): 하위 10%의 데이터 "
   ]
  },
  {
   "cell_type": "markdown",
   "id": "3f29587e-a22a-4894-b6e8-07fc975f7a31",
   "metadata": {},
   "source": [
    "### **시험에 필요한 주요 라이브러리 불러오기**"
   ]
  },
  {
   "cell_type": "code",
   "execution_count": 60,
   "id": "ec2227ad-5d56-480e-bf11-2ec459204184",
   "metadata": {},
   "outputs": [],
   "source": [
    "import numpy as np\n",
    "import pandas as pd\n",
    "from datetime import datetime\n",
    "from matplotlib import pyplot as plt\n",
    "import seaborn as sns"
   ]
  },
  {
   "cell_type": "markdown",
   "id": "5c58013b-ced6-4920-ae36-26563202f217",
   "metadata": {},
   "source": [
    "### **문제 1: NumPy 배열 기본 연산**\n",
    "---\n",
    "다음의 지시문에 따라 시험 점수를 처리하는 코드를 완성하세요."
   ]
  },
  {
   "cell_type": "markdown",
   "id": "52d5d24c-c068-4eff-8adb-4d2d81a2f831",
   "metadata": {},
   "source": [
    "#### **[+] 다섯 명에 대한 세 번의 시험 점수를 NumPy 배열로 선언**\n",
    "+ ```test_1```: [92, 94, 88, 91, 87]\n",
    "+ ```test_2```: [79, 100, 86, 93, 91]\n",
    "+ ```test_3```: [87, 85, 72, 90, 92]"
   ]
  },
  {
   "cell_type": "code",
   "execution_count": 61,
   "id": "7b7dd191-9272-4342-b425-665de9ea106d",
   "metadata": {},
   "outputs": [],
   "source": [
    "test_1 = np.array([92,94,88,91,87])\n",
    "test_2 = np.array([79,100,86,93,91])\n",
    "test_3 = np.array([87,85,72,90,92])"
   ]
  },
  {
   "cell_type": "markdown",
   "id": "74542bd3-9d08-43e8-8dde-3bb034f92ca2",
   "metadata": {},
   "source": [
    "#### **[+] 모든 첫 번째 시험 점수에 1점씩 더하기**\n",
    "변경 후의 `test_1`: [93, 95, 89, 92, 88]"
   ]
  },
  {
   "cell_type": "code",
   "execution_count": 62,
   "id": "40e9c661-d0e9-40cd-b839-5bafe1b0fa8a",
   "metadata": {},
   "outputs": [
    {
     "data": {
      "text/plain": [
       "array([93, 95, 89, 92, 88])"
      ]
     },
     "execution_count": 62,
     "metadata": {},
     "output_type": "execute_result"
    }
   ],
   "source": [
    "test_1_fixed = test_1 + 1\n",
    "test_1_fixed"
   ]
  },
  {
   "cell_type": "markdown",
   "id": "f418114e-276c-454a-8d42-cdec14044f36",
   "metadata": {},
   "source": [
    "#### **[+] 학생 별 전체 시험 점수 총합 계산**\n",
    "총합 계산에 수정된 첫 번째 시험 점수(```test_1_fixed```)를 사용"
   ]
  },
  {
   "cell_type": "code",
   "execution_count": 63,
   "id": "1063247a-e065-4531-9b2a-aede21ac19eb",
   "metadata": {},
   "outputs": [
    {
     "data": {
      "text/plain": [
       "457"
      ]
     },
     "execution_count": 63,
     "metadata": {},
     "output_type": "execute_result"
    }
   ],
   "source": [
    "total_grade = test_1_fixed.sum()\n",
    "total_grade"
   ]
  },
  {
   "cell_type": "markdown",
   "id": "377d4410-63c1-4821-8267-779d1635d5af",
   "metadata": {},
   "source": [
    "#### **[+] 학생 별 평균 시험 점수 계산**"
   ]
  },
  {
   "cell_type": "code",
   "execution_count": 64,
   "id": "13e2681f-018f-46d0-8c34-46d73e2f5bda",
   "metadata": {},
   "outputs": [
    {
     "data": {
      "text/plain": [
       "91.4"
      ]
     },
     "execution_count": 64,
     "metadata": {},
     "output_type": "execute_result"
    }
   ],
   "source": [
    "final_grade = test_1_fixed.mean()\n",
    "final_grade"
   ]
  },
  {
   "cell_type": "markdown",
   "id": "e4dd7c34-ea9c-419d-9d24-febf72cb60d5",
   "metadata": {},
   "source": [
    "### **문제 2: 결측 데이터 처리**\n",
    "---\n",
    "**설명:**\n",
    "당신은 대도시의 교통 부서에서 일하고 있으며, 도시의 주요 도로들에 대한 교통량과 사고 발생 빈도에 대한 데이터를 분석하고 있습니다. 데이터셋에는 여러 도로의 이름, 해당 도로에서의 일일 교통량, 그리고 최근 한 달 동안의 사고 발생 횟수가 포함되어 있습니다. 그러나, 일부 데이터가 누락되어 있어서 분석하기 전에 이를 정리할 필요가 있습니다.\n",
    "\n",
    "다음의 지시문에 따라 결측 데이터를 처리하는 코드를 완성하세요."
   ]
  },
  {
   "cell_type": "markdown",
   "id": "af663c71-b6f8-4c37-98e5-3d10d0f73f4c",
   "metadata": {},
   "source": [
    "#### **데이터셋 생성**"
   ]
  },
  {
   "cell_type": "code",
   "execution_count": 65,
   "id": "e6f78920-464d-494b-bcf9-55b059ecb742",
   "metadata": {},
   "outputs": [
    {
     "data": {
      "text/html": [
       "<div>\n",
       "<style scoped>\n",
       "    .dataframe tbody tr th:only-of-type {\n",
       "        vertical-align: middle;\n",
       "    }\n",
       "\n",
       "    .dataframe tbody tr th {\n",
       "        vertical-align: top;\n",
       "    }\n",
       "\n",
       "    .dataframe thead th {\n",
       "        text-align: right;\n",
       "    }\n",
       "</style>\n",
       "<table border=\"1\" class=\"dataframe\">\n",
       "  <thead>\n",
       "    <tr style=\"text-align: right;\">\n",
       "      <th></th>\n",
       "      <th>도로명</th>\n",
       "      <th>일일 교통량</th>\n",
       "      <th>사고 발생 횟수</th>\n",
       "    </tr>\n",
       "  </thead>\n",
       "  <tbody>\n",
       "    <tr>\n",
       "      <th>0</th>\n",
       "      <td>A길</td>\n",
       "      <td>10000</td>\n",
       "      <td>2.0</td>\n",
       "    </tr>\n",
       "    <tr>\n",
       "      <th>1</th>\n",
       "      <td>B대로</td>\n",
       "      <td>7500</td>\n",
       "      <td>3.0</td>\n",
       "    </tr>\n",
       "    <tr>\n",
       "      <th>2</th>\n",
       "      <td>C거리</td>\n",
       "      <td>N/A</td>\n",
       "      <td>NaN</td>\n",
       "    </tr>\n",
       "    <tr>\n",
       "      <th>3</th>\n",
       "      <td>D도로</td>\n",
       "      <td>12000</td>\n",
       "      <td>0.0</td>\n",
       "    </tr>\n",
       "    <tr>\n",
       "      <th>4</th>\n",
       "      <td>E길</td>\n",
       "      <td>NaN</td>\n",
       "      <td>NaN</td>\n",
       "    </tr>\n",
       "    <tr>\n",
       "      <th>5</th>\n",
       "      <td>F대로</td>\n",
       "      <td>7500</td>\n",
       "      <td>NaN</td>\n",
       "    </tr>\n",
       "    <tr>\n",
       "      <th>6</th>\n",
       "      <td>G길</td>\n",
       "      <td>NaN</td>\n",
       "      <td>NaN</td>\n",
       "    </tr>\n",
       "  </tbody>\n",
       "</table>\n",
       "</div>"
      ],
      "text/plain": [
       "   도로명 일일 교통량  사고 발생 횟수\n",
       "0   A길  10000       2.0\n",
       "1  B대로   7500       3.0\n",
       "2  C거리    N/A       NaN\n",
       "3  D도로  12000       0.0\n",
       "4   E길    NaN       NaN\n",
       "5  F대로   7500       NaN\n",
       "6   G길    NaN       NaN"
      ]
     },
     "execution_count": 65,
     "metadata": {},
     "output_type": "execute_result"
    }
   ],
   "source": [
    "data = {\n",
    "    '도로명': ['A길', 'B대로', 'C거리', 'D도로', 'E길', 'F대로', 'G길'],\n",
    "    '일일 교통량': [10000, 7500, 'N/A', 12000, np.nan, 7500, np.nan],\n",
    "    '사고 발생 횟수': [2, 3, np.nan, 0, np.nan, np.nan, np.nan],\n",
    "}\n",
    "\n",
    "df = pd.DataFrame(data)\n",
    "df"
   ]
  },
  {
   "cell_type": "markdown",
   "id": "fe6c1d14-c30a-4eec-ba69-16ac95d43736",
   "metadata": {},
   "source": [
    "#### **[+] DataFrame 내의 'N/A' 값을 np.nan으로 대체**\n",
    "+ 'N/A'는 문자열이며 결측치로 인식되지 않으므로 해당 값을 np.nan으로 대체"
   ]
  },
  {
   "cell_type": "code",
   "execution_count": 72,
   "id": "2af1a966-2aed-42cb-93a7-7adf491c2586",
   "metadata": {},
   "outputs": [
    {
     "data": {
      "text/html": [
       "<div>\n",
       "<style scoped>\n",
       "    .dataframe tbody tr th:only-of-type {\n",
       "        vertical-align: middle;\n",
       "    }\n",
       "\n",
       "    .dataframe tbody tr th {\n",
       "        vertical-align: top;\n",
       "    }\n",
       "\n",
       "    .dataframe thead th {\n",
       "        text-align: right;\n",
       "    }\n",
       "</style>\n",
       "<table border=\"1\" class=\"dataframe\">\n",
       "  <thead>\n",
       "    <tr style=\"text-align: right;\">\n",
       "      <th></th>\n",
       "      <th>도로명</th>\n",
       "      <th>일일 교통량</th>\n",
       "      <th>사고 발생 횟수</th>\n",
       "    </tr>\n",
       "  </thead>\n",
       "  <tbody>\n",
       "    <tr>\n",
       "      <th>0</th>\n",
       "      <td>A길</td>\n",
       "      <td>10000</td>\n",
       "      <td>2.0</td>\n",
       "    </tr>\n",
       "    <tr>\n",
       "      <th>1</th>\n",
       "      <td>B대로</td>\n",
       "      <td>7500</td>\n",
       "      <td>3.0</td>\n",
       "    </tr>\n",
       "    <tr>\n",
       "      <th>2</th>\n",
       "      <td>C거리</td>\n",
       "      <td>N/A</td>\n",
       "      <td>NaN</td>\n",
       "    </tr>\n",
       "    <tr>\n",
       "      <th>3</th>\n",
       "      <td>D도로</td>\n",
       "      <td>12000</td>\n",
       "      <td>0.0</td>\n",
       "    </tr>\n",
       "    <tr>\n",
       "      <th>4</th>\n",
       "      <td>E길</td>\n",
       "      <td>NaN</td>\n",
       "      <td>NaN</td>\n",
       "    </tr>\n",
       "    <tr>\n",
       "      <th>5</th>\n",
       "      <td>F대로</td>\n",
       "      <td>7500</td>\n",
       "      <td>NaN</td>\n",
       "    </tr>\n",
       "    <tr>\n",
       "      <th>6</th>\n",
       "      <td>G길</td>\n",
       "      <td>NaN</td>\n",
       "      <td>NaN</td>\n",
       "    </tr>\n",
       "  </tbody>\n",
       "</table>\n",
       "</div>"
      ],
      "text/plain": [
       "   도로명 일일 교통량  사고 발생 횟수\n",
       "0   A길  10000       2.0\n",
       "1  B대로   7500       3.0\n",
       "2  C거리    N/A       NaN\n",
       "3  D도로  12000       0.0\n",
       "4   E길    NaN       NaN\n",
       "5  F대로   7500       NaN\n",
       "6   G길    NaN       NaN"
      ]
     },
     "execution_count": 72,
     "metadata": {},
     "output_type": "execute_result"
    }
   ],
   "source": [
    "df.dropna()\n",
    "df"
   ]
  },
  {
   "cell_type": "markdown",
   "id": "40c17091-d13b-4525-891a-13781c0f9185",
   "metadata": {},
   "source": [
    "#### **[+] 어떤 행에서든 하나 이상의 값이 누락된 경우 그 행을 제거**"
   ]
  },
  {
   "cell_type": "code",
   "execution_count": 67,
   "id": "21ca9c7e-c812-460b-a6b3-a16ec7f306de",
   "metadata": {},
   "outputs": [
    {
     "data": {
      "text/html": [
       "<div>\n",
       "<style scoped>\n",
       "    .dataframe tbody tr th:only-of-type {\n",
       "        vertical-align: middle;\n",
       "    }\n",
       "\n",
       "    .dataframe tbody tr th {\n",
       "        vertical-align: top;\n",
       "    }\n",
       "\n",
       "    .dataframe thead th {\n",
       "        text-align: right;\n",
       "    }\n",
       "</style>\n",
       "<table border=\"1\" class=\"dataframe\">\n",
       "  <thead>\n",
       "    <tr style=\"text-align: right;\">\n",
       "      <th></th>\n",
       "      <th>도로명</th>\n",
       "      <th>일일 교통량</th>\n",
       "      <th>사고 발생 횟수</th>\n",
       "    </tr>\n",
       "  </thead>\n",
       "  <tbody>\n",
       "    <tr>\n",
       "      <th>0</th>\n",
       "      <td>A길</td>\n",
       "      <td>10000</td>\n",
       "      <td>2.0</td>\n",
       "    </tr>\n",
       "    <tr>\n",
       "      <th>1</th>\n",
       "      <td>B대로</td>\n",
       "      <td>7500</td>\n",
       "      <td>3.0</td>\n",
       "    </tr>\n",
       "    <tr>\n",
       "      <th>3</th>\n",
       "      <td>D도로</td>\n",
       "      <td>12000</td>\n",
       "      <td>0.0</td>\n",
       "    </tr>\n",
       "  </tbody>\n",
       "</table>\n",
       "</div>"
      ],
      "text/plain": [
       "   도로명 일일 교통량  사고 발생 횟수\n",
       "0   A길  10000       2.0\n",
       "1  B대로   7500       3.0\n",
       "3  D도로  12000       0.0"
      ]
     },
     "execution_count": 67,
     "metadata": {},
     "output_type": "execute_result"
    }
   ],
   "source": [
    "df_cleaned_1 = df.dropna(axis = 0, how = 'any')\n",
    "df_cleaned_1"
   ]
  },
  {
   "cell_type": "markdown",
   "id": "8c5aa949-7632-439f-b95c-4f5bda97d56a",
   "metadata": {},
   "source": [
    "#### **[+] 정상으로 측정된 값의 개수가 임계치 4개보다 작은 열을 삭제**"
   ]
  },
  {
   "cell_type": "code",
   "execution_count": 68,
   "id": "58fb12d9-b282-4ab8-9c58-61dddd3565af",
   "metadata": {},
   "outputs": [
    {
     "data": {
      "text/html": [
       "<div>\n",
       "<style scoped>\n",
       "    .dataframe tbody tr th:only-of-type {\n",
       "        vertical-align: middle;\n",
       "    }\n",
       "\n",
       "    .dataframe tbody tr th {\n",
       "        vertical-align: top;\n",
       "    }\n",
       "\n",
       "    .dataframe thead th {\n",
       "        text-align: right;\n",
       "    }\n",
       "</style>\n",
       "<table border=\"1\" class=\"dataframe\">\n",
       "  <thead>\n",
       "    <tr style=\"text-align: right;\">\n",
       "      <th></th>\n",
       "      <th>도로명</th>\n",
       "      <th>일일 교통량</th>\n",
       "    </tr>\n",
       "  </thead>\n",
       "  <tbody>\n",
       "    <tr>\n",
       "      <th>0</th>\n",
       "      <td>A길</td>\n",
       "      <td>10000</td>\n",
       "    </tr>\n",
       "    <tr>\n",
       "      <th>1</th>\n",
       "      <td>B대로</td>\n",
       "      <td>7500</td>\n",
       "    </tr>\n",
       "    <tr>\n",
       "      <th>2</th>\n",
       "      <td>C거리</td>\n",
       "      <td>N/A</td>\n",
       "    </tr>\n",
       "    <tr>\n",
       "      <th>3</th>\n",
       "      <td>D도로</td>\n",
       "      <td>12000</td>\n",
       "    </tr>\n",
       "    <tr>\n",
       "      <th>4</th>\n",
       "      <td>E길</td>\n",
       "      <td>NaN</td>\n",
       "    </tr>\n",
       "    <tr>\n",
       "      <th>5</th>\n",
       "      <td>F대로</td>\n",
       "      <td>7500</td>\n",
       "    </tr>\n",
       "    <tr>\n",
       "      <th>6</th>\n",
       "      <td>G길</td>\n",
       "      <td>NaN</td>\n",
       "    </tr>\n",
       "  </tbody>\n",
       "</table>\n",
       "</div>"
      ],
      "text/plain": [
       "   도로명 일일 교통량\n",
       "0   A길  10000\n",
       "1  B대로   7500\n",
       "2  C거리    N/A\n",
       "3  D도로  12000\n",
       "4   E길    NaN\n",
       "5  F대로   7500\n",
       "6   G길    NaN"
      ]
     },
     "execution_count": 68,
     "metadata": {},
     "output_type": "execute_result"
    }
   ],
   "source": [
    "df_cleaned_2 = df.dropna(axis = 1, thresh = 4 , how = 'all')\n",
    "df_cleaned_2"
   ]
  },
  {
   "cell_type": "markdown",
   "id": "b0bb4ae1-88f0-413f-b21a-253b276493c9",
   "metadata": {},
   "source": [
    "### **문제 3: 2차원 데이터 연결**\n",
    "---\n",
    "다음의 지시문을 읽고 두 개의 데이터프레임 객체를 연결하는 코드를 완성하세요."
   ]
  },
  {
   "cell_type": "markdown",
   "id": "87eae258-7433-4b28-ac63-c798d164a399",
   "metadata": {},
   "source": [
    "#### **DataFrame 생성**"
   ]
  },
  {
   "cell_type": "code",
   "execution_count": 69,
   "id": "f4dc3251-7bda-4f98-91fd-bcb1a54d4ff1",
   "metadata": {},
   "outputs": [],
   "source": [
    "# DataFrame 생성 함수\n",
    "def make_df(cols, ind):\n",
    "    data = {c: [str(c) + str(i) for i in ind]\n",
    "           for c in cols}\n",
    "\n",
    "    return pd.DataFrame(data, ind)\n",
    "\n",
    "df1 = make_df('AB', [1, 2])\n",
    "df2 = make_df('AB', [3, 4])"
   ]
  },
  {
   "cell_type": "markdown",
   "id": "3075f949-7126-46b0-8656-f2564fce3523",
   "metadata": {},
   "source": [
    "#### **[+] df1, df2를 행 방향으로 연결하고 인덱스를 초기화**\n",
    "예상 결과:\n",
    "```\n",
    "        A\tB\n",
    "0\tA1\tB1\n",
    "1\tA2\tB2\n",
    "2\tA3\t43\n",
    "4\n",
    "3\t\tB4\n",
    "\n",
    "```"
   ]
  },
  {
   "cell_type": "code",
   "execution_count": 70,
   "id": "eb13bf05-d2f4-4397-9210-11d79e696834",
   "metadata": {},
   "outputs": [
    {
     "ename": "AttributeError",
     "evalue": "'DataFrame' object has no attribute 'hstack'",
     "output_type": "error",
     "traceback": [
      "\u001b[1;31m---------------------------------------------------------------------------\u001b[0m",
      "\u001b[1;31mAttributeError\u001b[0m                            Traceback (most recent call last)",
      "\u001b[1;32m~\\AppData\\Local\\Temp/ipykernel_20932/4107626086.py\u001b[0m in \u001b[0;36m<module>\u001b[1;34m\u001b[0m\n\u001b[1;32m----> 1\u001b[1;33m \u001b[0mdf1\u001b[0m \u001b[1;33m=\u001b[0m \u001b[0mdf\u001b[0m\u001b[1;33m.\u001b[0m\u001b[0mhstack\u001b[0m\u001b[1;33m(\u001b[0m\u001b[1;33m)\u001b[0m\u001b[1;33m\u001b[0m\u001b[1;33m\u001b[0m\u001b[0m\n\u001b[0m",
      "\u001b[1;32m~\\anaconda3\\lib\\site-packages\\pandas\\core\\generic.py\u001b[0m in \u001b[0;36m__getattr__\u001b[1;34m(self, name)\u001b[0m\n\u001b[0;32m   5485\u001b[0m         ):\n\u001b[0;32m   5486\u001b[0m             \u001b[1;32mreturn\u001b[0m \u001b[0mself\u001b[0m\u001b[1;33m[\u001b[0m\u001b[0mname\u001b[0m\u001b[1;33m]\u001b[0m\u001b[1;33m\u001b[0m\u001b[1;33m\u001b[0m\u001b[0m\n\u001b[1;32m-> 5487\u001b[1;33m         \u001b[1;32mreturn\u001b[0m \u001b[0mobject\u001b[0m\u001b[1;33m.\u001b[0m\u001b[0m__getattribute__\u001b[0m\u001b[1;33m(\u001b[0m\u001b[0mself\u001b[0m\u001b[1;33m,\u001b[0m \u001b[0mname\u001b[0m\u001b[1;33m)\u001b[0m\u001b[1;33m\u001b[0m\u001b[1;33m\u001b[0m\u001b[0m\n\u001b[0m\u001b[0;32m   5488\u001b[0m \u001b[1;33m\u001b[0m\u001b[0m\n\u001b[0;32m   5489\u001b[0m     \u001b[1;32mdef\u001b[0m \u001b[0m__setattr__\u001b[0m\u001b[1;33m(\u001b[0m\u001b[0mself\u001b[0m\u001b[1;33m,\u001b[0m \u001b[0mname\u001b[0m\u001b[1;33m:\u001b[0m \u001b[0mstr\u001b[0m\u001b[1;33m,\u001b[0m \u001b[0mvalue\u001b[0m\u001b[1;33m)\u001b[0m \u001b[1;33m->\u001b[0m \u001b[1;32mNone\u001b[0m\u001b[1;33m:\u001b[0m\u001b[1;33m\u001b[0m\u001b[1;33m\u001b[0m\u001b[0m\n",
      "\u001b[1;31mAttributeError\u001b[0m: 'DataFrame' object has no attribute 'hstack'"
     ]
    }
   ],
   "source": [
    "df1 = df.hstack()"
   ]
  },
  {
   "cell_type": "markdown",
   "id": "d74af5a6-d7a4-4b9e-a8c6-f0f40fcffcb1",
   "metadata": {},
   "source": [
    "### **문제 4: 시계열 생성 및 기본 연산**\n",
    "---\n",
    "다음의 지시문을 읽고 시계열을 생성 및 인덱싱, 그리고 정규 시퀀스를 생성하는 코드를 완성하세요."
   ]
  },
  {
   "cell_type": "markdown",
   "id": "e3216868-78d2-4c71-8c7c-09092d27d169",
   "metadata": {},
   "source": [
    "#### **DateTimeIndex 객체 생성**"
   ]
  },
  {
   "cell_type": "code",
   "execution_count": 38,
   "id": "1a0a1282-c3b7-42fd-a207-8f1b25ccdbc7",
   "metadata": {},
   "outputs": [
    {
     "data": {
      "text/plain": [
       "DatetimeIndex(['2023-11-28', '2023-11-29', '2023-11-30', '2023-12-01',\n",
       "               '2023-12-02', '2023-12-03', '2023-12-04'],\n",
       "              dtype='datetime64[ns]', freq=None)"
      ]
     },
     "execution_count": 38,
     "metadata": {},
     "output_type": "execute_result"
    }
   ],
   "source": [
    "ind = pd.DatetimeIndex(['2023-11-28', '2023-11-29', '2023-11-30', '2023-12-01',\n",
    "                        '2023-12-02', '2023-12-03', '2023-12-04'])\n",
    "ind"
   ]
  },
  {
   "cell_type": "markdown",
   "id": "36bf14b8-352e-4c41-96b7-bb2e40019afc",
   "metadata": {},
   "source": [
    "#### **[+] ind를 이용한 시계열 데이터 생성**\n",
    "예상 결과:\n",
    "```\n",
    "    2023-11-28    0\n",
    "    2023-11-29    1\n",
    "    2023-11-30    2\n",
    "    2023-12-01    3  \n",
    "    2023-12-02    4\n",
    "    2023-12-03    5\n",
    "    2023-12-04    6\n",
    "    dtype: int64\n",
    "```"
   ]
  },
  {
   "cell_type": "code",
   "execution_count": 58,
   "id": "6d9b198b-5902-4bef-8845-f189d22efc67",
   "metadata": {},
   "outputs": [
    {
     "ename": "SyntaxError",
     "evalue": "invalid syntax (Temp/ipykernel_20932/1024488730.py, line 1)",
     "output_type": "error",
     "traceback": [
      "\u001b[1;36m  File \u001b[1;32m\"C:\\Users\\82109\\AppData\\Local\\Temp/ipykernel_20932/1024488730.py\"\u001b[1;36m, line \u001b[1;32m1\u001b[0m\n\u001b[1;33m    ser = pd.series(2023-11-28 : 2023-12-04 :, index = ['0,1,2,3,4,5,6'])\u001b[0m\n\u001b[1;37m                               ^\u001b[0m\n\u001b[1;31mSyntaxError\u001b[0m\u001b[1;31m:\u001b[0m invalid syntax\n"
     ]
    }
   ],
   "source": [
    "ser = pd.series(2023-11-28 : 2023-12-04 :, index = ['0,1,2,3,4,5,6'])\n",
    "ser"
   ]
  },
  {
   "cell_type": "markdown",
   "id": "e2d0263f-ed68-4999-8eb9-5055d51d39ed",
   "metadata": {},
   "source": [
    "#### **[+] 12월 데이터 선택**"
   ]
  },
  {
   "cell_type": "code",
   "execution_count": 73,
   "id": "2e2fcad6-c622-4d07-adc2-fdef95150b09",
   "metadata": {},
   "outputs": [
    {
     "ename": "SyntaxError",
     "evalue": "invalid syntax (Temp/ipykernel_20932/278791913.py, line 1)",
     "output_type": "error",
     "traceback": [
      "\u001b[1;36m  File \u001b[1;32m\"C:\\Users\\82109\\AppData\\Local\\Temp/ipykernel_20932/278791913.py\"\u001b[1;36m, line \u001b[1;32m1\u001b[0m\n\u001b[1;33m    dec =\u001b[0m\n\u001b[1;37m          ^\u001b[0m\n\u001b[1;31mSyntaxError\u001b[0m\u001b[1;31m:\u001b[0m invalid syntax\n"
     ]
    }
   ],
   "source": [
    "dec = "
   ]
  },
  {
   "cell_type": "markdown",
   "id": "923b5592-e739-4d94-8a0b-fd2edc43a79b",
   "metadata": {},
   "source": [
    "#### **[+] 정규 시퀀스 함수를 사용하여 2023년 12월 영업일로 이루어진 일간 시계열 생성하기**\n",
    "+ 첫 타임스탬프: 2023-12-01\n",
    "+ 마지막 타임스탬프: 2023-12-31\n",
    "+ 빈도: 영업일\n",
    "\n",
    "예상 결과:\n",
    "```\n",
    "DatetimeIndex(['2023-12-01', '2023-12-04', '2023-12-05', '2023-12-06',\n",
    "               '2023-12-07', '2023-12-08', '2023-12-11', '2023-12-12',\n",
    "               '2023-12-13', '2023-12-14', '2023-12-15', '2023-12-18',\n",
    "               '2023-12-19', '2023-12-20', '2023-12-21', '2023-12-22',\n",
    "               '2023-12-25', '2023-12-26', '2023-12-27', '2023-12-28',\n",
    "               '2023-12-29'],\n",
    "              dtype='datetime64[ns]', freq='B')\n",
    "```"
   ]
  },
  {
   "cell_type": "markdown",
   "id": "186e62c0-04e0-4bd0-ad0f-cccbe894ea7c",
   "metadata": {},
   "source": [
    "| Code   | Description         | Code   | Description          |\n",
    "|--------|---------------------|--------|----------------------|\n",
    "| ``D``  | Calendar day        | ``B``  | Business day         |\n",
    "| ``W``  | Weekly              |   -    |                      |\n",
    "| ``M``  | Month end           | ``BM`` | Business month end   |\n",
    "| ``Q``  | Quarter end         | ``BQ`` | Business quarter end |\n",
    "| ``A``  | Year end            | ``BA`` | Business year end    |\n",
    "| ``H``  | Hours               | ``BH`` | Business hours       |\n",
    "| ``T``  | Minutes             |   -    |                      |\n",
    "| ``S``  | Seconds             |   -    |                      |\n",
    "| ``L``  | Milliseonds         |   -    |                      |\n",
    "| ``U``  | Microseconds        |   -    |                      |\n",
    "| ``N``  | nanoseconds         |   -    |                      |"
   ]
  },
  {
   "cell_type": "code",
   "execution_count": null,
   "id": "624cfb58-5587-48f0-be86-e7ebe2a7fe1f",
   "metadata": {},
   "outputs": [],
   "source": [
    "..."
   ]
  },
  {
   "cell_type": "markdown",
   "id": "3f6f9a4b-32c5-4e66-8dc5-678225574591",
   "metadata": {},
   "source": [
    "### **문제 5: 사분위수 범위 기반 이상치 탐지**\n",
    "---\n",
    "다음의 지시문을 읽고 공기질 데이터(Air Quality)의 이산화탄소 변수에 대해 사분위수 범위 기반으로 이상치를 탐지 및 제거하는 코드를 완성하세요."
   ]
  },
  {
   "cell_type": "markdown",
   "id": "f02a280b-0855-40e2-8f17-6c07b91b59c8",
   "metadata": {},
   "source": [
    "#### **데이터셋 불러오기**"
   ]
  },
  {
   "cell_type": "code",
   "execution_count": 43,
   "id": "de31334c-9397-4e98-828e-3356a26add22",
   "metadata": {},
   "outputs": [
    {
     "data": {
      "text/html": [
       "<div>\n",
       "<style scoped>\n",
       "    .dataframe tbody tr th:only-of-type {\n",
       "        vertical-align: middle;\n",
       "    }\n",
       "\n",
       "    .dataframe tbody tr th {\n",
       "        vertical-align: top;\n",
       "    }\n",
       "\n",
       "    .dataframe thead th {\n",
       "        text-align: right;\n",
       "    }\n",
       "</style>\n",
       "<table border=\"1\" class=\"dataframe\">\n",
       "  <thead>\n",
       "    <tr style=\"text-align: right;\">\n",
       "      <th></th>\n",
       "      <th>CO(GT)</th>\n",
       "      <th>PT08.S1(CO)</th>\n",
       "      <th>PT08.S2(NMHC)</th>\n",
       "      <th>NOx(GT)</th>\n",
       "      <th>PT08.S3(NOx)</th>\n",
       "      <th>NO2(GT)</th>\n",
       "      <th>PT08.S4(NO2)</th>\n",
       "      <th>PT08.S5(O3)</th>\n",
       "      <th>RH</th>\n",
       "      <th>AH</th>\n",
       "      <th>C6H6(GT)</th>\n",
       "    </tr>\n",
       "    <tr>\n",
       "      <th>Datetime</th>\n",
       "      <th></th>\n",
       "      <th></th>\n",
       "      <th></th>\n",
       "      <th></th>\n",
       "      <th></th>\n",
       "      <th></th>\n",
       "      <th></th>\n",
       "      <th></th>\n",
       "      <th></th>\n",
       "      <th></th>\n",
       "      <th></th>\n",
       "    </tr>\n",
       "  </thead>\n",
       "  <tbody>\n",
       "    <tr>\n",
       "      <th>2004-03-10 18:00:00</th>\n",
       "      <td>2.6</td>\n",
       "      <td>1360.0</td>\n",
       "      <td>1046.0</td>\n",
       "      <td>166.0</td>\n",
       "      <td>1056.0</td>\n",
       "      <td>113.0</td>\n",
       "      <td>1692.0</td>\n",
       "      <td>1268.0</td>\n",
       "      <td>48.9</td>\n",
       "      <td>0.7578</td>\n",
       "      <td>11.9</td>\n",
       "    </tr>\n",
       "    <tr>\n",
       "      <th>2004-03-10 19:00:00</th>\n",
       "      <td>2.0</td>\n",
       "      <td>1292.0</td>\n",
       "      <td>955.0</td>\n",
       "      <td>103.0</td>\n",
       "      <td>1174.0</td>\n",
       "      <td>92.0</td>\n",
       "      <td>1559.0</td>\n",
       "      <td>972.0</td>\n",
       "      <td>47.7</td>\n",
       "      <td>0.7255</td>\n",
       "      <td>9.4</td>\n",
       "    </tr>\n",
       "    <tr>\n",
       "      <th>2004-03-10 20:00:00</th>\n",
       "      <td>2.2</td>\n",
       "      <td>1402.0</td>\n",
       "      <td>939.0</td>\n",
       "      <td>131.0</td>\n",
       "      <td>1140.0</td>\n",
       "      <td>114.0</td>\n",
       "      <td>1555.0</td>\n",
       "      <td>1074.0</td>\n",
       "      <td>54.0</td>\n",
       "      <td>0.7502</td>\n",
       "      <td>9.0</td>\n",
       "    </tr>\n",
       "    <tr>\n",
       "      <th>2004-03-10 21:00:00</th>\n",
       "      <td>2.2</td>\n",
       "      <td>1376.0</td>\n",
       "      <td>948.0</td>\n",
       "      <td>172.0</td>\n",
       "      <td>1092.0</td>\n",
       "      <td>122.0</td>\n",
       "      <td>1584.0</td>\n",
       "      <td>1203.0</td>\n",
       "      <td>60.0</td>\n",
       "      <td>0.7867</td>\n",
       "      <td>9.2</td>\n",
       "    </tr>\n",
       "    <tr>\n",
       "      <th>2004-03-10 22:00:00</th>\n",
       "      <td>1.6</td>\n",
       "      <td>1272.0</td>\n",
       "      <td>836.0</td>\n",
       "      <td>131.0</td>\n",
       "      <td>1205.0</td>\n",
       "      <td>116.0</td>\n",
       "      <td>1490.0</td>\n",
       "      <td>1110.0</td>\n",
       "      <td>59.6</td>\n",
       "      <td>0.7888</td>\n",
       "      <td>6.5</td>\n",
       "    </tr>\n",
       "  </tbody>\n",
       "</table>\n",
       "</div>"
      ],
      "text/plain": [
       "                     CO(GT)  PT08.S1(CO)  PT08.S2(NMHC)  NOx(GT)  \\\n",
       "Datetime                                                           \n",
       "2004-03-10 18:00:00     2.6       1360.0         1046.0    166.0   \n",
       "2004-03-10 19:00:00     2.0       1292.0          955.0    103.0   \n",
       "2004-03-10 20:00:00     2.2       1402.0          939.0    131.0   \n",
       "2004-03-10 21:00:00     2.2       1376.0          948.0    172.0   \n",
       "2004-03-10 22:00:00     1.6       1272.0          836.0    131.0   \n",
       "\n",
       "                     PT08.S3(NOx)  NO2(GT)  PT08.S4(NO2)  PT08.S5(O3)    RH  \\\n",
       "Datetime                                                                      \n",
       "2004-03-10 18:00:00        1056.0    113.0        1692.0       1268.0  48.9   \n",
       "2004-03-10 19:00:00        1174.0     92.0        1559.0        972.0  47.7   \n",
       "2004-03-10 20:00:00        1140.0    114.0        1555.0       1074.0  54.0   \n",
       "2004-03-10 21:00:00        1092.0    122.0        1584.0       1203.0  60.0   \n",
       "2004-03-10 22:00:00        1205.0    116.0        1490.0       1110.0  59.6   \n",
       "\n",
       "                         AH  C6H6(GT)  \n",
       "Datetime                               \n",
       "2004-03-10 18:00:00  0.7578      11.9  \n",
       "2004-03-10 19:00:00  0.7255       9.4  \n",
       "2004-03-10 20:00:00  0.7502       9.0  \n",
       "2004-03-10 21:00:00  0.7867       9.2  \n",
       "2004-03-10 22:00:00  0.7888       6.5  "
      ]
     },
     "execution_count": 43,
     "metadata": {},
     "output_type": "execute_result"
    }
   ],
   "source": [
    "def parser(x):\n",
    "    return datetime.strptime(x, '%Y-%m-%d %H:%M:%S')\n",
    "\n",
    "path = './data/'\n",
    "file = 'AirQualityUCI_refined.csv'\n",
    "\n",
    "df = pd.read_csv(\n",
    "    path + file,\n",
    "    index_col=[0],\n",
    "    parse_dates=[0],\n",
    "    date_parser=parser\n",
    ")\n",
    "\n",
    "df.head()"
   ]
  },
  {
   "cell_type": "markdown",
   "id": "ca830b56-7e37-4b75-8361-af75db64929c",
   "metadata": {},
   "source": [
    "#### **[+] 일산화탄소 변수 복사본 생성**\n",
    "+ 변수 명: CO(GT)"
   ]
  },
  {
   "cell_type": "code",
   "execution_count": 45,
   "id": "5602e8dc-8b71-49d8-97a2-2933ba55f1d3",
   "metadata": {},
   "outputs": [
    {
     "ename": "AttributeError",
     "evalue": "module 'pandas' has no attribute 'read'",
     "output_type": "error",
     "traceback": [
      "\u001b[1;31m---------------------------------------------------------------------------\u001b[0m",
      "\u001b[1;31mAttributeError\u001b[0m                            Traceback (most recent call last)",
      "\u001b[1;32m~\\AppData\\Local\\Temp/ipykernel_20932/2118035744.py\u001b[0m in \u001b[0;36m<module>\u001b[1;34m\u001b[0m\n\u001b[1;32m----> 1\u001b[1;33m \u001b[0mco\u001b[0m \u001b[1;33m=\u001b[0m \u001b[0mpd\u001b[0m\u001b[1;33m.\u001b[0m\u001b[0mread\u001b[0m\u001b[1;33m(\u001b[0m\u001b[1;33m[\u001b[0m\u001b[0mCO\u001b[0m\u001b[1;33m(\u001b[0m\u001b[0mGT\u001b[0m\u001b[1;33m)\u001b[0m\u001b[1;33m]\u001b[0m\u001b[1;33m)\u001b[0m\u001b[1;33m.\u001b[0m\u001b[0mcopy\u001b[0m\u001b[1;33m(\u001b[0m\u001b[1;33m)\u001b[0m\u001b[1;33m\u001b[0m\u001b[1;33m\u001b[0m\u001b[0m\n\u001b[0m",
      "\u001b[1;32m~\\anaconda3\\lib\\site-packages\\pandas\\__init__.py\u001b[0m in \u001b[0;36m__getattr__\u001b[1;34m(name)\u001b[0m\n\u001b[0;32m    242\u001b[0m         \u001b[1;32mreturn\u001b[0m \u001b[0m_SparseArray\u001b[0m\u001b[1;33m\u001b[0m\u001b[1;33m\u001b[0m\u001b[0m\n\u001b[0;32m    243\u001b[0m \u001b[1;33m\u001b[0m\u001b[0m\n\u001b[1;32m--> 244\u001b[1;33m     \u001b[1;32mraise\u001b[0m \u001b[0mAttributeError\u001b[0m\u001b[1;33m(\u001b[0m\u001b[1;34mf\"module 'pandas' has no attribute '{name}'\"\u001b[0m\u001b[1;33m)\u001b[0m\u001b[1;33m\u001b[0m\u001b[1;33m\u001b[0m\u001b[0m\n\u001b[0m\u001b[0;32m    245\u001b[0m \u001b[1;33m\u001b[0m\u001b[0m\n\u001b[0;32m    246\u001b[0m \u001b[1;33m\u001b[0m\u001b[0m\n",
      "\u001b[1;31mAttributeError\u001b[0m: module 'pandas' has no attribute 'read'"
     ]
    }
   ],
   "source": [
    "co = pd.read([CO(GT)]).copy()"
   ]
  },
  {
   "cell_type": "markdown",
   "id": "50a269c4-b64e-485f-81a1-b73d1f5f3b5c",
   "metadata": {},
   "source": [
    "#### **[+] 결측 데이터 처리: 선형 보간**"
   ]
  },
  {
   "cell_type": "code",
   "execution_count": null,
   "id": "49c68279-acfb-46d9-b272-ff0e40841eb1",
   "metadata": {},
   "outputs": [],
   "source": [
    "interpolate(inplace=True)"
   ]
  },
  {
   "cell_type": "markdown",
   "id": "a7ba642e-b7bb-4fe1-a8ba-a90c75732087",
   "metadata": {},
   "source": [
    "#### **[+] Q1, Q3 구하기**"
   ]
  },
  {
   "cell_type": "code",
   "execution_count": 46,
   "id": "19ea1bc0-de0e-4f4e-aae7-b2bb2b5bdaf2",
   "metadata": {},
   "outputs": [
    {
     "ename": "SyntaxError",
     "evalue": "invalid syntax (Temp/ipykernel_20932/2309827497.py, line 1)",
     "output_type": "error",
     "traceback": [
      "\u001b[1;36m  File \u001b[1;32m\"C:\\Users\\82109\\AppData\\Local\\Temp/ipykernel_20932/2309827497.py\"\u001b[1;36m, line \u001b[1;32m1\u001b[0m\n\u001b[1;33m    q1 = q1 - 1.5iqr\u001b[0m\n\u001b[1;37m                 ^\u001b[0m\n\u001b[1;31mSyntaxError\u001b[0m\u001b[1;31m:\u001b[0m invalid syntax\n"
     ]
    }
   ],
   "source": [
    "q1 = q1 - 1.5iqr\n",
    "q3 = q3 + 1.5iqr\n",
    "print(q1, q3)"
   ]
  },
  {
   "cell_type": "markdown",
   "id": "15d707cd-1dc2-4a7b-bd25-34f8bf603b01",
   "metadata": {},
   "source": [
    "#### **[+] IQR, 상한(upper fence), 하한(lower fence) 구하기**\n",
    "사분위수 범위와 이상치의 경계를 결정하는 상한과 하한은 다음과 같다.\n",
    "+ 사분위수(Interquartile Range, IQR):\n",
    "\n",
    "    $IQR=Q3-Q1$\n",
    "\n",
    "+ 상한(Upper Fence, UF):\n",
    "\n",
    "    $UF=Q3+1.5IQR$\n",
    "\n",
    "+ 하한(Lower Fence, LF):\n",
    "\n",
    "    $LF=Q1-1.5IQR$"
   ]
  },
  {
   "cell_type": "code",
   "execution_count": 47,
   "id": "5eb61613-6b6b-49d4-8154-aed126834086",
   "metadata": {},
   "outputs": [
    {
     "ename": "SyntaxError",
     "evalue": "invalid syntax (Temp/ipykernel_20932/3615905454.py, line 2)",
     "output_type": "error",
     "traceback": [
      "\u001b[1;36m  File \u001b[1;32m\"C:\\Users\\82109\\AppData\\Local\\Temp/ipykernel_20932/3615905454.py\"\u001b[1;36m, line \u001b[1;32m2\u001b[0m\n\u001b[1;33m    upper_fence = q3 + 1.5iqr\u001b[0m\n\u001b[1;37m                          ^\u001b[0m\n\u001b[1;31mSyntaxError\u001b[0m\u001b[1;31m:\u001b[0m invalid syntax\n"
     ]
    }
   ],
   "source": [
    "iqr = q3 - q1\n",
    "upper_fence = q3 + 1.5iqr\n",
    "lower_fence = q1 - 1.5iqr\n",
    "print(iqr, upper_fence, lower_fence)"
   ]
  },
  {
   "cell_type": "markdown",
   "id": "73d3f4c4-874b-4bef-bc67-97eefa8e6d6e",
   "metadata": {},
   "source": [
    "#### **[+] 이상치 선택하기**"
   ]
  },
  {
   "cell_type": "code",
   "execution_count": null,
   "id": "4c6112b4-8612-4cda-ad4f-9b95c5988258",
   "metadata": {},
   "outputs": [],
   "source": [
    "outliers = ...\n",
    "outliers"
   ]
  },
  {
   "cell_type": "markdown",
   "id": "13dc65b3-f84d-4c2f-80e0-92b9d75dcc13",
   "metadata": {},
   "source": [
    "#### **[+] 이상치 여부 마스킹**"
   ]
  },
  {
   "cell_type": "code",
   "execution_count": null,
   "id": "b3f41ab5-3126-4886-83c8-4e2e252aea95",
   "metadata": {},
   "outputs": [],
   "source": [
    "mask = ...\n",
    "mask[:50]"
   ]
  },
  {
   "cell_type": "markdown",
   "id": "09ee231e-85e6-4337-ae57-09f7ad45b245",
   "metadata": {},
   "source": [
    "#### **정상 데이터 / 이상치 시각화**"
   ]
  },
  {
   "cell_type": "code",
   "execution_count": null,
   "id": "f5cadf24-ca54-4975-ac36-35fd9f73f605",
   "metadata": {},
   "outputs": [],
   "source": [
    "plt.plot(co[~mask], label='normal', color='blue',\n",
    "    marker='o', markersize=3, linestyle='None')\n",
    "plt.plot(outliers, label='outliers', color='red',\n",
    "    marker='x', markersize=3, linestyle='None')\n",
    "plt.legend(loc='best')"
   ]
  },
  {
   "cell_type": "markdown",
   "id": "1f796030-7a0b-4cfb-84fe-d3e1873e0ce6",
   "metadata": {},
   "source": [
    "#### **[+] 이상치 제거**\n",
    "모든 이상치들을 ```np.nan``` 으로 대체"
   ]
  },
  {
   "cell_type": "code",
   "execution_count": null,
   "id": "189cc326-1e8b-410e-a8ff-9e9ad1bc262c",
   "metadata": {},
   "outputs": [],
   "source": [
    "co_refined = ...\n",
    "co_refined[mask] = ...\n",
    "co_refined[mask]"
   ]
  },
  {
   "cell_type": "markdown",
   "id": "5d17ac6b-813a-4594-bb0d-977286e613c8",
   "metadata": {},
   "source": [
    "#### **[+] 제거된 이상치에 대한 대치: 선형보간**\n",
    "```np.nan``` 들을 선형보간을 통해 생성된 값으로 대체하기"
   ]
  },
  {
   "cell_type": "code",
   "execution_count": null,
   "id": "2d9be242-bf52-4b94-bb20-c9cb1303d2b1",
   "metadata": {},
   "outputs": [],
   "source": [
    "...\n",
    "co_refined.plot()"
   ]
  },
  {
   "cell_type": "markdown",
   "id": "8c54a659-949d-4da6-a108-601e54c41d11",
   "metadata": {},
   "source": [
    "### **문제 6: 로그 변환**\n",
    "---\n",
    "다음의 지시문을 읽고 공기질 데이터(Air Quality)의 질소산화물 변수(```'NOx(GT)'```)를 정규 분포에 가깝도록 로그 스케일로 변환하는 코드를 완성하세요."
   ]
  },
  {
   "cell_type": "markdown",
   "id": "3c9070e8-3a43-444f-b710-d264edb5c4a7",
   "metadata": {},
   "source": [
    "#### **데이터셋 불러오기**"
   ]
  },
  {
   "cell_type": "code",
   "execution_count": 48,
   "id": "bd0ffae9-316b-429d-9a0c-e87025d239b5",
   "metadata": {},
   "outputs": [
    {
     "data": {
      "text/html": [
       "<div>\n",
       "<style scoped>\n",
       "    .dataframe tbody tr th:only-of-type {\n",
       "        vertical-align: middle;\n",
       "    }\n",
       "\n",
       "    .dataframe tbody tr th {\n",
       "        vertical-align: top;\n",
       "    }\n",
       "\n",
       "    .dataframe thead th {\n",
       "        text-align: right;\n",
       "    }\n",
       "</style>\n",
       "<table border=\"1\" class=\"dataframe\">\n",
       "  <thead>\n",
       "    <tr style=\"text-align: right;\">\n",
       "      <th></th>\n",
       "      <th>CO(GT)</th>\n",
       "      <th>PT08.S1(CO)</th>\n",
       "      <th>PT08.S2(NMHC)</th>\n",
       "      <th>NOx(GT)</th>\n",
       "      <th>PT08.S3(NOx)</th>\n",
       "      <th>NO2(GT)</th>\n",
       "      <th>PT08.S4(NO2)</th>\n",
       "      <th>PT08.S5(O3)</th>\n",
       "      <th>RH</th>\n",
       "      <th>AH</th>\n",
       "      <th>C6H6(GT)</th>\n",
       "    </tr>\n",
       "    <tr>\n",
       "      <th>Datetime</th>\n",
       "      <th></th>\n",
       "      <th></th>\n",
       "      <th></th>\n",
       "      <th></th>\n",
       "      <th></th>\n",
       "      <th></th>\n",
       "      <th></th>\n",
       "      <th></th>\n",
       "      <th></th>\n",
       "      <th></th>\n",
       "      <th></th>\n",
       "    </tr>\n",
       "  </thead>\n",
       "  <tbody>\n",
       "    <tr>\n",
       "      <th>2004-03-10 18:00:00</th>\n",
       "      <td>2.6</td>\n",
       "      <td>1360.0</td>\n",
       "      <td>1046.0</td>\n",
       "      <td>166.0</td>\n",
       "      <td>1056.0</td>\n",
       "      <td>113.0</td>\n",
       "      <td>1692.0</td>\n",
       "      <td>1268.0</td>\n",
       "      <td>48.9</td>\n",
       "      <td>0.7578</td>\n",
       "      <td>11.9</td>\n",
       "    </tr>\n",
       "    <tr>\n",
       "      <th>2004-03-10 19:00:00</th>\n",
       "      <td>2.0</td>\n",
       "      <td>1292.0</td>\n",
       "      <td>955.0</td>\n",
       "      <td>103.0</td>\n",
       "      <td>1174.0</td>\n",
       "      <td>92.0</td>\n",
       "      <td>1559.0</td>\n",
       "      <td>972.0</td>\n",
       "      <td>47.7</td>\n",
       "      <td>0.7255</td>\n",
       "      <td>9.4</td>\n",
       "    </tr>\n",
       "    <tr>\n",
       "      <th>2004-03-10 20:00:00</th>\n",
       "      <td>2.2</td>\n",
       "      <td>1402.0</td>\n",
       "      <td>939.0</td>\n",
       "      <td>131.0</td>\n",
       "      <td>1140.0</td>\n",
       "      <td>114.0</td>\n",
       "      <td>1555.0</td>\n",
       "      <td>1074.0</td>\n",
       "      <td>54.0</td>\n",
       "      <td>0.7502</td>\n",
       "      <td>9.0</td>\n",
       "    </tr>\n",
       "    <tr>\n",
       "      <th>2004-03-10 21:00:00</th>\n",
       "      <td>2.2</td>\n",
       "      <td>1376.0</td>\n",
       "      <td>948.0</td>\n",
       "      <td>172.0</td>\n",
       "      <td>1092.0</td>\n",
       "      <td>122.0</td>\n",
       "      <td>1584.0</td>\n",
       "      <td>1203.0</td>\n",
       "      <td>60.0</td>\n",
       "      <td>0.7867</td>\n",
       "      <td>9.2</td>\n",
       "    </tr>\n",
       "    <tr>\n",
       "      <th>2004-03-10 22:00:00</th>\n",
       "      <td>1.6</td>\n",
       "      <td>1272.0</td>\n",
       "      <td>836.0</td>\n",
       "      <td>131.0</td>\n",
       "      <td>1205.0</td>\n",
       "      <td>116.0</td>\n",
       "      <td>1490.0</td>\n",
       "      <td>1110.0</td>\n",
       "      <td>59.6</td>\n",
       "      <td>0.7888</td>\n",
       "      <td>6.5</td>\n",
       "    </tr>\n",
       "  </tbody>\n",
       "</table>\n",
       "</div>"
      ],
      "text/plain": [
       "                     CO(GT)  PT08.S1(CO)  PT08.S2(NMHC)  NOx(GT)  \\\n",
       "Datetime                                                           \n",
       "2004-03-10 18:00:00     2.6       1360.0         1046.0    166.0   \n",
       "2004-03-10 19:00:00     2.0       1292.0          955.0    103.0   \n",
       "2004-03-10 20:00:00     2.2       1402.0          939.0    131.0   \n",
       "2004-03-10 21:00:00     2.2       1376.0          948.0    172.0   \n",
       "2004-03-10 22:00:00     1.6       1272.0          836.0    131.0   \n",
       "\n",
       "                     PT08.S3(NOx)  NO2(GT)  PT08.S4(NO2)  PT08.S5(O3)    RH  \\\n",
       "Datetime                                                                      \n",
       "2004-03-10 18:00:00        1056.0    113.0        1692.0       1268.0  48.9   \n",
       "2004-03-10 19:00:00        1174.0     92.0        1559.0        972.0  47.7   \n",
       "2004-03-10 20:00:00        1140.0    114.0        1555.0       1074.0  54.0   \n",
       "2004-03-10 21:00:00        1092.0    122.0        1584.0       1203.0  60.0   \n",
       "2004-03-10 22:00:00        1205.0    116.0        1490.0       1110.0  59.6   \n",
       "\n",
       "                         AH  C6H6(GT)  \n",
       "Datetime                               \n",
       "2004-03-10 18:00:00  0.7578      11.9  \n",
       "2004-03-10 19:00:00  0.7255       9.4  \n",
       "2004-03-10 20:00:00  0.7502       9.0  \n",
       "2004-03-10 21:00:00  0.7867       9.2  \n",
       "2004-03-10 22:00:00  0.7888       6.5  "
      ]
     },
     "execution_count": 48,
     "metadata": {},
     "output_type": "execute_result"
    }
   ],
   "source": [
    "def parser(x):\n",
    "    return datetime.strptime(x, '%Y-%m-%d %H:%M:%S')\n",
    "\n",
    "path = './data/'\n",
    "file = 'AirQualityUCI_refined.csv'\n",
    "\n",
    "df = pd.read_csv(\n",
    "    path + file,\n",
    "    index_col=[0],\n",
    "    parse_dates=[0],\n",
    "    date_parser=parser\n",
    ")\n",
    "\n",
    "df.head()"
   ]
  },
  {
   "cell_type": "markdown",
   "id": "3be02961-8499-4006-8b2c-a1261c2596d8",
   "metadata": {},
   "source": [
    "#### **[+] 질소산화물 변수 복사본 생성**\n",
    "+ 변수 명: NOx(GT) "
   ]
  },
  {
   "cell_type": "code",
   "execution_count": 27,
   "id": "0271de09-80fa-4512-aaac-c6d703117faf",
   "metadata": {},
   "outputs": [
    {
     "ename": "NameError",
     "evalue": "name 'nox' is not defined",
     "output_type": "error",
     "traceback": [
      "\u001b[1;31m---------------------------------------------------------------------------\u001b[0m",
      "\u001b[1;31mNameError\u001b[0m                                 Traceback (most recent call last)",
      "\u001b[1;32m~\\AppData\\Local\\Temp/ipykernel_20932/420654961.py\u001b[0m in \u001b[0;36m<module>\u001b[1;34m\u001b[0m\n\u001b[1;32m----> 1\u001b[1;33m \u001b[0mnox\u001b[0m \u001b[1;33m=\u001b[0m \u001b[0mpd\u001b[0m\u001b[1;33m(\u001b[0m\u001b[1;33m[\u001b[0m\u001b[0mnox\u001b[0m\u001b[1;33m(\u001b[0m\u001b[0mGT\u001b[0m\u001b[1;33m)\u001b[0m\u001b[1;33m]\u001b[0m\u001b[1;33m)\u001b[0m\u001b[1;33m.\u001b[0m\u001b[0mcopy\u001b[0m\u001b[1;33m(\u001b[0m\u001b[1;33m)\u001b[0m\u001b[1;33m\u001b[0m\u001b[1;33m\u001b[0m\u001b[0m\n\u001b[0m",
      "\u001b[1;31mNameError\u001b[0m: name 'nox' is not defined"
     ]
    }
   ],
   "source": [
    "nox = "
   ]
  },
  {
   "cell_type": "markdown",
   "id": "3d3cf97f-11b1-47da-9896-0d14695d7cfe",
   "metadata": {},
   "source": [
    "#### **질소 산화물 변수 분포 시각화**"
   ]
  },
  {
   "cell_type": "code",
   "execution_count": 49,
   "id": "cf4903a6-146d-4d78-bb73-a6b28bb87393",
   "metadata": {},
   "outputs": [
    {
     "ename": "NameError",
     "evalue": "name 'nox' is not defined",
     "output_type": "error",
     "traceback": [
      "\u001b[1;31m---------------------------------------------------------------------------\u001b[0m",
      "\u001b[1;31mNameError\u001b[0m                                 Traceback (most recent call last)",
      "\u001b[1;32m~\\AppData\\Local\\Temp/ipykernel_20932/1965174891.py\u001b[0m in \u001b[0;36m<module>\u001b[1;34m\u001b[0m\n\u001b[1;32m----> 1\u001b[1;33m \u001b[0msns\u001b[0m\u001b[1;33m.\u001b[0m\u001b[0mdisplot\u001b[0m\u001b[1;33m(\u001b[0m\u001b[0mnox\u001b[0m\u001b[1;33m,\u001b[0m \u001b[0mkde\u001b[0m\u001b[1;33m=\u001b[0m\u001b[1;32mTrue\u001b[0m\u001b[1;33m)\u001b[0m\u001b[1;33m\u001b[0m\u001b[1;33m\u001b[0m\u001b[0m\n\u001b[0m",
      "\u001b[1;31mNameError\u001b[0m: name 'nox' is not defined"
     ]
    }
   ],
   "source": [
    "sns.displot(nox, kde=True)"
   ]
  },
  {
   "cell_type": "markdown",
   "id": "b392b310-481b-4906-a7de-80e1a1b6fbaa",
   "metadata": {},
   "source": [
    "#### **[+] 상용 로그 스케일로 변환**"
   ]
  },
  {
   "cell_type": "code",
   "execution_count": null,
   "id": "8a2b3bcf-4f70-4c37-9950-c2b3a0444565",
   "metadata": {},
   "outputs": [],
   "source": [
    "nox_scaled = ...\n",
    "nox_scaled"
   ]
  },
  {
   "cell_type": "markdown",
   "id": "cd8da26d-e667-4630-87a8-4068dfaf5cfe",
   "metadata": {},
   "source": [
    "#### **변환된 변수 분포 시각화**"
   ]
  },
  {
   "cell_type": "code",
   "execution_count": null,
   "id": "5a394d6c-c536-474d-8c46-b98ed5177ec3",
   "metadata": {},
   "outputs": [],
   "source": [
    "sns.displot(nox_scaled, kde=True)\n",
    "plt.xlabel('log(NOx)')\n",
    "plt.show()"
   ]
  },
  {
   "cell_type": "markdown",
   "id": "d72f609f-e992-4111-a909-90b575a9006d",
   "metadata": {},
   "source": [
    "### **문제 7: 최소-최대 정규화**\n",
    "---\n",
    "다음의 지시문에 따라 공기질 데이터셋의 두 변수에 대해 최소-최대 정규화를 수행하는 코드를 완성하세요.\n",
    "+ 변수 1: 일산화탄소(```CO(GT)```)\n",
    "+ 변수 2: 비메탄 탄화수소(```PT08.S2(NMHC)```)"
   ]
  },
  {
   "cell_type": "markdown",
   "id": "6735b3e0-38b3-4a25-a72b-49eb36310f37",
   "metadata": {},
   "source": [
    "#### **데이터셋 불러오기**"
   ]
  },
  {
   "cell_type": "code",
   "execution_count": null,
   "id": "29d7f385-faef-4ae7-bb3a-4f7c0eb142fc",
   "metadata": {},
   "outputs": [],
   "source": [
    "def parser(x):\n",
    "    return datetime.strptime(x, '%Y-%m-%d %H:%M:%S')\n",
    "\n",
    "path = './data/'\n",
    "file = 'AirQualityUCI_refined.csv'\n",
    "\n",
    "df = pd.read_csv(\n",
    "    path + file,\n",
    "    index_col=[0],\n",
    "    parse_dates=[0],\n",
    "    date_parser=parser\n",
    ")\n",
    "\n",
    "df.head()"
   ]
  },
  {
   "cell_type": "markdown",
   "id": "f81e18c1-b2f4-4d63-a61c-91485b5c10d4",
   "metadata": {},
   "source": [
    "#### **[+] 일산화탄소 변수 복사본 생성**"
   ]
  },
  {
   "cell_type": "code",
   "execution_count": null,
   "id": "a8107857-6435-4587-9e4d-064e837c9c29",
   "metadata": {},
   "outputs": [],
   "source": [
    "co = ..."
   ]
  },
  {
   "cell_type": "markdown",
   "id": "57cf2a23-b4aa-4069-9a95-4e170b161ea2",
   "metadata": {},
   "source": [
    "#### **[+] 일산화탄소 변수 결측치 처리: 선형 보간**"
   ]
  },
  {
   "cell_type": "code",
   "execution_count": null,
   "id": "cce95a91-ce9b-4ea8-9d40-f461a2f65920",
   "metadata": {},
   "outputs": [],
   "source": [
    "..."
   ]
  },
  {
   "cell_type": "markdown",
   "id": "7df9025b-b2c6-43c5-8b3b-38b80c7156c1",
   "metadata": {},
   "source": [
    "#### **[+] 비메탄 탄화수소 변수 복사본 생성**"
   ]
  },
  {
   "cell_type": "code",
   "execution_count": null,
   "id": "83c3780c-9a4b-4104-a9a8-1c2d4ee6396e",
   "metadata": {},
   "outputs": [],
   "source": [
    "nmhc = ..."
   ]
  },
  {
   "cell_type": "markdown",
   "id": "6ed62e88-07a9-4642-b5ba-728b1ff34c27",
   "metadata": {},
   "source": [
    "#### **[+] 비메탄 탄화수소 변수 결측치 처리: 선형 보간**"
   ]
  },
  {
   "cell_type": "code",
   "execution_count": null,
   "id": "c4f3b6a3-e1fc-4655-9691-14af201bb95e",
   "metadata": {},
   "outputs": [],
   "source": [
    "..."
   ]
  },
  {
   "cell_type": "markdown",
   "id": "6b7b22fd-6dd4-4702-be6e-4ebd42797b4c",
   "metadata": {},
   "source": [
    "#### **스케일이 서로 다른 두 변수 시각화**"
   ]
  },
  {
   "cell_type": "code",
   "execution_count": null,
   "id": "75a6d646-c9ba-4026-81e9-3a6cc349847d",
   "metadata": {},
   "outputs": [],
   "source": [
    "plt.plot(co, label='Carbon monooxide')\n",
    "plt.plot(nmhc, label='Non-methane hydrocarbon')\n",
    "plt.ylabel('Concentration')\n",
    "plt.legend(loc='best')"
   ]
  },
  {
   "cell_type": "markdown",
   "id": "c252af1e-ce5c-4456-82b0-6cc155944469",
   "metadata": {},
   "source": [
    "#### **최소-최대 정규화(min-max normalization) 수식**\n",
    "\n",
    "$x_{norm} = \\frac{x-x_{min}}{x_{max}-x_{min}}$"
   ]
  },
  {
   "cell_type": "markdown",
   "id": "33813af1-ffe5-4614-be02-885e3fd74b6f",
   "metadata": {},
   "source": [
    "#### **[+] 일산화탄소 변수 정규화**\n",
    "정규화 결과 저장: df['CO_Norm']"
   ]
  },
  {
   "cell_type": "code",
   "execution_count": null,
   "id": "59b7c61b-7ffa-4607-b70f-b9f9f3d06104",
   "metadata": {},
   "outputs": [],
   "source": [
    "...\n",
    "df['CO_Norm']"
   ]
  },
  {
   "cell_type": "markdown",
   "id": "1f0a6f7e-8980-423b-b645-3e7c089d2cf1",
   "metadata": {},
   "source": [
    "#### **[+] 비메탄탄화수소 변수 정규화**\n",
    "정규화 결과 저장: df['NMHC_Norm']"
   ]
  },
  {
   "cell_type": "code",
   "execution_count": null,
   "id": "d8fff24f-0b5a-482f-8a85-924368dc17e1",
   "metadata": {},
   "outputs": [],
   "source": [
    "...\n",
    "df['NMHC_Norm']"
   ]
  },
  {
   "cell_type": "markdown",
   "id": "5f9d35a1-d794-4e8c-9e71-35fa997ddd6d",
   "metadata": {},
   "source": [
    "#### **정규화된 두 변수 시각화**"
   ]
  },
  {
   "cell_type": "code",
   "execution_count": null,
   "id": "4df2fb5b-87cf-4ec0-b92e-9bbcaf305187",
   "metadata": {},
   "outputs": [],
   "source": [
    "plt.plot(df['CO_Norm'], label='Carbon monooxide')\n",
    "plt.plot(df['NMHC_Norm'], label='Non-methane hydrocarbon')\n",
    "plt.ylabel('Concentration')\n",
    "plt.legend(loc='best')"
   ]
  }
 ],
 "metadata": {
  "kernelspec": {
   "display_name": "Python 3 (ipykernel)",
   "language": "python",
   "name": "python3"
  },
  "language_info": {
   "codemirror_mode": {
    "name": "ipython",
    "version": 3
   },
   "file_extension": ".py",
   "mimetype": "text/x-python",
   "name": "python",
   "nbconvert_exporter": "python",
   "pygments_lexer": "ipython3",
   "version": "3.9.7"
  }
 },
 "nbformat": 4,
 "nbformat_minor": 5
}
